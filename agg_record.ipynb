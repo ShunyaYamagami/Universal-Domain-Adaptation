{
 "cells": [
  {
   "cell_type": "code",
   "execution_count": null,
   "metadata": {},
   "outputs": [],
   "source": [
    "\"\"\" 同じ条件の実行フォルダをまとめる. \"\"\"\n",
    "import os\n",
    "import shutil\n",
    "from glob import glob\n",
    "from pathlib import Path\n",
    "import numpy as np\n",
    "from collections import defaultdict\n",
    "from itertools import combinations\n",
    "dset_dict = {\n",
    "    'office': [\"amazon\", \"dslr\", \"webcam\"],\n",
    "    'OfficeHome': [\"Art\", \"Clipart\", \"Product\", \"RealWorld\"],\n",
    "    'DomainNet': ['clipart_infograph', 'clipart_painting', 'clipart_quickdraw', 'clipart_real', 'clipart_sketch', 'infograph_painting', 'infograph_quickdraw', 'infograph_real', 'infograph_sketch', 'painting_quickdraw', 'painting_real', 'painting_sketch', 'quickdraw_real', 'quickdraw_sketch', 'real_sketch'],\n",
    "}\n",
    "dset_combs = {}\n",
    "for parent, dl in dset_dict.items():\n",
    "    dset_combs[parent] = [f'{a[0][0]}{a[1][0]}' for a in combinations(dl, 2)]\n",
    "    dset_combs[parent] += [f'{a[1][0]}{a[0][0]}' for a in combinations(dl, 2)]\n",
    "group_list = defaultdict(list)\n",
    "parent = 'office'\n",
    "folder = f'log/{parent}'\n",
    "dirs = glob(f'{folder}/*/*')\n",
    "for dir in dirs:\n",
    "    time, gpu, dset, group = Path(dir).name.split('--')\n",
    "    if dset not in dset_combs[parent]:\n",
    "        continue\n",
    "    group_list[group].append(dir)\n",
    "\n",
    "for group, dirs_list in group_list.items():\n",
    "    for dir in dirs_list:\n",
    "        to_dir = Path(dir).parent / group\n",
    "        os.makedirs(to_dir, exist_ok=True)\n",
    "        shutil.move(dir, to_dir)\n",
    "        "
   ]
  },
  {
   "cell_type": "code",
   "execution_count": null,
   "metadata": {},
   "outputs": [],
   "source": [
    "import os\n",
    "import shutil\n",
    "from glob import glob\n",
    "from pathlib import Path\n",
    "import numpy as np\n",
    "from collections import defaultdict\n",
    "\n",
    "parent = 'office'\n",
    "print(f'-----  {parent}  -----')\n",
    "logs = glob(f'log/{parent}/*/*/*/log.txt')\n",
    "group_results = defaultdict(dict)\n",
    "for log in logs:\n",
    "    with open(log, 'r') as f:\n",
    "        lines = f.readlines()\n",
    "    acc = np.max([float(line.split(': ')[-1][:-2]) for line in lines if 'acc_test' in line])\n",
    "    n = Path(log).parent.name.split('--')[-1]\n",
    "    dset = Path(log).parent.name.split('--')[2]\n",
    "\n",
    "    group_results[n][dset] = acc\n",
    "\n",
    "rslt_list = []\n",
    "for group, dset_acc in group_results.items():\n",
    "    mean = np.mean([acc for acc in dset_acc.values()])\n",
    "    sorte_dset_acc = dict(sorted(dset_acc.items(), key=lambda x: x[0]))\n",
    "    rslt = f'\\tmean: {mean:.2f}%\\t' + '\\t'.join([f'{dset}: {acc:.2f}%' for dset, acc in sorte_dset_acc.items()])\n",
    "    rslt_list.append((mean, group, rslt))\n",
    "for mean, group, rslt in sorted(rslt_list, key=lambda x: x[0], reverse=True):\n",
    "    print(group)\n",
    "    print(rslt)\n",
    "print('\\n\\n')\n"
   ]
  }
 ],
 "metadata": {
  "kernelspec": {
   "display_name": "gda",
   "language": "python",
   "name": "python3"
  },
  "language_info": {
   "codemirror_mode": {
    "name": "ipython",
    "version": 3
   },
   "file_extension": ".py",
   "mimetype": "text/x-python",
   "name": "python",
   "nbconvert_exporter": "python",
   "pygments_lexer": "ipython3",
   "version": "3.11.3"
  },
  "orig_nbformat": 4
 },
 "nbformat": 4,
 "nbformat_minor": 2
}
